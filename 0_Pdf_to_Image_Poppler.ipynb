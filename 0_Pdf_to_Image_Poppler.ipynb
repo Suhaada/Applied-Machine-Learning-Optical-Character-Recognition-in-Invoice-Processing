{
 "cells": [
  {
   "cell_type": "markdown",
   "metadata": {},
   "source": [
    "## SET ENVIRONMENT"
   ]
  },
  {
   "cell_type": "code",
   "execution_count": 1,
   "metadata": {},
   "outputs": [
    {
     "data": {
      "text/plain": [
       "'C:\\\\Users\\\\Adam\\\\Python Scripts'"
      ]
     },
     "execution_count": 1,
     "metadata": {},
     "output_type": "execute_result"
    }
   ],
   "source": [
    "import os \n",
    "os.getcwd()"
   ]
  },
  {
   "cell_type": "code",
   "execution_count": 1,
   "metadata": {},
   "outputs": [
    {
     "data": {
      "text/plain": [
       "\"\\nThis requires Poppler to be installed and the route provided at 'convert_from_pat' -\\nI've installed it from here\\nhttps://blog.alivate.com.au/poppler-windows/\\n\\n\""
      ]
     },
     "execution_count": 1,
     "metadata": {},
     "output_type": "execute_result"
    }
   ],
   "source": [
    "'''\n",
    "This requires Poppler to be installed and the route provided at 'convert_from_pat' -\n",
    "I've installed it from here\n",
    "https://blog.alivate.com.au/poppler-windows/\n",
    "\n",
    "'''"
   ]
  },
  {
   "cell_type": "code",
   "execution_count": 2,
   "metadata": {},
   "outputs": [],
   "source": [
    "import os\n",
    "import tempfile\n",
    "from pdf2image import convert_from_path\n",
    "import shutil\n",
    "from os import path\n",
    "from glob import glob  \n",
    "import glob"
   ]
  },
  {
   "cell_type": "markdown",
   "metadata": {},
   "source": [
    "## MOVE RAW FILES TO DEST FOLDER"
   ]
  },
  {
   "cell_type": "code",
   "execution_count": 3,
   "metadata": {},
   "outputs": [],
   "source": [
    "# moves all files from folder to destination \n",
    "\n",
    "source_dir = 'C:\\\\Users\\\\Adam\\\\Python Scripts\\\\eredeti_kepek'\n",
    "dest_dir = 'C:\\\\Users\\\\Adam\\\\Python Scripts\\\\feldolgozott_kepek'\n",
    "files = os.listdir(source_dir)\n",
    "\n",
    "src_files = os.listdir(source_dir)\n",
    "for file_name in files:\n",
    "    full_file_name = os.path.join(source_dir, file_name)\n",
    "    if os.path.isfile(full_file_name):\n",
    "        shutil.copy(full_file_name, dest_dir)"
   ]
  },
  {
   "cell_type": "code",
   "execution_count": 4,
   "metadata": {},
   "outputs": [],
   "source": [
    "# CHANGE WD TO DEST FOLDER\n",
    "os.chdir(dest_dir)"
   ]
  },
  {
   "cell_type": "markdown",
   "metadata": {},
   "source": [
    "## IDENTIFY PDF FILES ONLY "
   ]
  },
  {
   "cell_type": "code",
   "execution_count": 5,
   "metadata": {},
   "outputs": [],
   "source": [
    "pdfs = glob.glob(\"*.pdf\")"
   ]
  },
  {
   "cell_type": "code",
   "execution_count": 6,
   "metadata": {},
   "outputs": [
    {
     "data": {
      "text/plain": [
       "'E-KBOSS-2020-58455.png'"
      ]
     },
     "execution_count": 6,
     "metadata": {},
     "output_type": "execute_result"
    }
   ],
   "source": [
    "output_name= pdfs[0][:-4] + '.png'\n",
    "output_name"
   ]
  },
  {
   "cell_type": "markdown",
   "metadata": {},
   "source": [
    "## CONVERT ANY PDF TO IMAGE "
   ]
  },
  {
   "cell_type": "code",
   "execution_count": 7,
   "metadata": {},
   "outputs": [],
   "source": [
    "for i in range(len(pdfs)): \n",
    "    output_name= pdfs[i][:-4] + '.png'\n",
    "    pages = convert_from_path(pdfs[i], dpi=500, poppler_path= r'C:\\Users\\Adam\\Desktop\\OCR Test\\Poppler\\poppler-0.67.0\\bin')\n",
    "    for page in pages:\n",
    "        page.save(output_name, 'PNG')"
   ]
  },
  {
   "cell_type": "markdown",
   "metadata": {},
   "source": [
    "## REMOVE ANY PDF "
   ]
  },
  {
   "cell_type": "code",
   "execution_count": 8,
   "metadata": {},
   "outputs": [],
   "source": [
    "for parent, dirnames, filenames in os.walk(os.getcwd()):\n",
    "    for fn in filenames:\n",
    "        if fn.lower().endswith('.pdf'):\n",
    "            os.remove(os.path.join(parent, fn))"
   ]
  },
  {
   "cell_type": "markdown",
   "metadata": {},
   "source": [
    "## CONVERT EVERYTHING TO 300 DPI TIFF \n",
    "https://stackoverflow.com/questions/54001029/how-to-change-the-dpi-or-density-when-saving-images-using-pil"
   ]
  },
  {
   "cell_type": "code",
   "execution_count": 9,
   "metadata": {},
   "outputs": [],
   "source": [
    "from PIL import Image\n",
    "import tempfile"
   ]
  },
  {
   "cell_type": "code",
   "execution_count": 10,
   "metadata": {},
   "outputs": [],
   "source": [
    "files = os.listdir()"
   ]
  },
  {
   "cell_type": "code",
   "execution_count": 11,
   "metadata": {},
   "outputs": [],
   "source": [
    "for i in range(len(files)):\n",
    "    \n",
    "    # CONSTRUCT FILE NAME \n",
    "    file_name = files[i][:-4] + '.tiff'\n",
    "    \n",
    "    # CONVERT INTO 300 DPI TIFF \n",
    "    file = files[i]\n",
    "    im = Image.open(files[i])\n",
    "    im.save(file_name, dpi=(300, 300))\n",
    "    \n",
    "    # REMOVE ORIGINAL \n",
    "    os.remove(files[i])\n",
    "    "
   ]
  },
  {
   "cell_type": "code",
   "execution_count": null,
   "metadata": {},
   "outputs": [],
   "source": []
  }
 ],
 "metadata": {
  "kernelspec": {
   "display_name": "Python 3",
   "language": "python",
   "name": "python3"
  },
  "language_info": {
   "codemirror_mode": {
    "name": "ipython",
    "version": 3
   },
   "file_extension": ".py",
   "mimetype": "text/x-python",
   "name": "python",
   "nbconvert_exporter": "python",
   "pygments_lexer": "ipython3",
   "version": "3.7.6"
  }
 },
 "nbformat": 4,
 "nbformat_minor": 4
}
