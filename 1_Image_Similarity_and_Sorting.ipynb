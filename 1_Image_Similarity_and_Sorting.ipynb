{
 "cells": [
  {
   "cell_type": "code",
   "execution_count": 1,
   "metadata": {},
   "outputs": [],
   "source": [
    "'''\n",
    "File names can't contain special characters or spaces at the moment\n",
    "'''"
   ]
  },
  {
   "cell_type": "markdown",
   "metadata": {},
   "source": [
    "## PACKAGES"
   ]
  },
  {
   "cell_type": "code",
   "execution_count": 2,
   "metadata": {},
   "outputs": [],
   "source": [
    "# import the necessary packages\n",
    "from skimage.metrics import structural_similarity as ssim\n",
    "import matplotlib.pyplot as plt\n",
    "import numpy as np\n",
    "import cv2\n",
    "import os \n",
    "import shutil\n",
    "import numpy as np\n",
    "import matplotlib.pyplot as plt\n",
    "import pandas as pd\n",
    "import pdf2image\n",
    "import glob\n",
    "import subprocess\n",
    "\n",
    "from skimage import data, img_as_float\n",
    "from skimage.metrics import structural_similarity as ssim\n",
    "import itertools\n",
    "from itertools import chain"
   ]
  },
  {
   "cell_type": "markdown",
   "metadata": {},
   "source": [
    "## PARAMETERS"
   ]
  },
  {
   "cell_type": "code",
   "execution_count": 3,
   "metadata": {},
   "outputs": [],
   "source": [
    "## READ IN MAPPING FILE \n",
    "mapping = pd.read_excel(r'C:\\Users\\Adam\\Python Scripts\\invoice_mapping\\type_map.xlsx')\n",
    "mapping = pd.DataFrame(mapping)\n",
    "\n",
    "## CREATE TUPLE WITH INVOICE TYPES\n",
    "invoice_types = mapping['Type'].tolist() \n",
    "invoice_types = tuple(invoice_types)\n",
    "\n",
    "## CREATE TUPLE OF EXAMPLE INVOICES \n",
    "invoice_examples = mapping['Example'].tolist() \n",
    "invoice_examples = tuple(invoice_examples)\n",
    "\n",
    "# get results to this directory \n",
    "result_dir = 'C:\\\\Users\\\\Adam\\\\Python Scripts\\\\feldolgozott_kepek\\\\'"
   ]
  },
  {
   "cell_type": "markdown",
   "metadata": {},
   "source": [
    "## BUILD IMAGE SIMILARITY MATRIX "
   ]
  },
  {
   "cell_type": "markdown",
   "metadata": {},
   "source": [
    "#### LOOPY LOOP "
   ]
  },
  {
   "cell_type": "code",
   "execution_count": 4,
   "metadata": {},
   "outputs": [],
   "source": [
    "# SET WD TO DIRECTORY TO LOOP THROUGH  \n",
    "os.chdir('C:\\\\Users\\\\Adam\\\\Python Scripts\\\\feldolgozott_kepek\\\\')\n",
    "\n",
    "# create list with all files \n",
    "files = os.listdir()"
   ]
  },
  {
   "cell_type": "code",
   "execution_count": 5,
   "metadata": {},
   "outputs": [],
   "source": [
    "# CREATE ALL POSSIBLE PERMUTATIONS OF IMAGES FOR COMPATING \n",
    "#permutations = [list(zip(x,invoice_examples)) for x in itertools.permutations(files,len(invoice_examples))]\n",
    "#perm = sorted(list(set(list(chain(*permutations)))), reverse=True)"
   ]
  },
  {
   "cell_type": "code",
   "execution_count": 6,
   "metadata": {},
   "outputs": [],
   "source": [
    "perm = list(itertools.product(invoice_examples, files))"
   ]
  },
  {
   "cell_type": "code",
   "execution_count": null,
   "metadata": {},
   "outputs": [],
   "source": [
    "perm"
   ]
  },
  {
   "cell_type": "code",
   "execution_count": 7,
   "metadata": {},
   "outputs": [],
   "source": [
    "invoice_compare_to = list()\n",
    "invoice_compared= list()\n",
    "similarity= list()\n",
    "similarity_matrix = pd.DataFrame()"
   ]
  },
  {
   "cell_type": "code",
   "execution_count": 8,
   "metadata": {},
   "outputs": [],
   "source": [
    "for i in range(len(perm)):\n",
    "    #print(perm[i])\n",
    "    \n",
    "    test = perm[i]\n",
    "    \n",
    "    ## READ IMAGE I \n",
    "\n",
    "    # convert image to numeric matrix\n",
    "    original = cv2.imread(test[0])\n",
    "    # convert to greyscale\n",
    "    original = cv2.cvtColor(original, cv2.COLOR_BGR2GRAY)\n",
    "\n",
    "    ## READ IMAGE II \n",
    "\n",
    "    # convert image to numeric matrix\n",
    "    original2 = cv2.imread(test[1])\n",
    "    # convert to greyscale\n",
    "    original2 = cv2.cvtColor(original2, cv2.COLOR_BGR2GRAY)\n",
    "    \n",
    "    \n",
    "    ## CONVERT IMAGES TO SAME SIZE\n",
    "    (H, W) = original.shape\n",
    "    original2 = cv2.resize(original2, (W, H))\n",
    "\n",
    "    s = ssim(original, original2)\n",
    "\n",
    "    ## STORE RESULTS \n",
    "    invoice1 = test[0]\n",
    "    invoice2= test[1]\n",
    "    similarity_score= s\n",
    "    \n",
    "    invoice_compare_to.append(invoice1)\n",
    "    invoice_compared.append(invoice2)\n",
    "    similarity.append(similarity_score)\n",
    "    "
   ]
  },
  {
   "cell_type": "code",
   "execution_count": 9,
   "metadata": {},
   "outputs": [],
   "source": [
    "sim_df = pd.DataFrame(\n",
    "    {'Szamla': invoice_compare_to,\n",
    "     'Szamlahoz_hasonlitott': invoice_compared,\n",
    "     'Hasonlosag': similarity\n",
    "    })"
   ]
  },
  {
   "cell_type": "code",
   "execution_count": 10,
   "metadata": {},
   "outputs": [
    {
     "data": {
      "text/html": [
       "<div>\n",
       "<style scoped>\n",
       "    .dataframe tbody tr th:only-of-type {\n",
       "        vertical-align: middle;\n",
       "    }\n",
       "\n",
       "    .dataframe tbody tr th {\n",
       "        vertical-align: top;\n",
       "    }\n",
       "\n",
       "    .dataframe thead th {\n",
       "        text-align: right;\n",
       "    }\n",
       "</style>\n",
       "<table border=\"1\" class=\"dataframe\">\n",
       "  <thead>\n",
       "    <tr style=\"text-align: right;\">\n",
       "      <th></th>\n",
       "      <th>Szamla</th>\n",
       "      <th>Szamlahoz_hasonlitott</th>\n",
       "      <th>Hasonlosag</th>\n",
       "    </tr>\n",
       "  </thead>\n",
       "  <tbody>\n",
       "    <tr>\n",
       "      <th>0</th>\n",
       "      <td>t1_szamla_1.tiff</td>\n",
       "      <td>E-KBOSS-2020-58455.tiff</td>\n",
       "      <td>0.664223</td>\n",
       "    </tr>\n",
       "    <tr>\n",
       "      <th>1</th>\n",
       "      <td>t1_szamla_1.tiff</td>\n",
       "      <td>E-KBOSS-2020-78468.tiff</td>\n",
       "      <td>0.664620</td>\n",
       "    </tr>\n",
       "    <tr>\n",
       "      <th>2</th>\n",
       "      <td>t1_szamla_1.tiff</td>\n",
       "      <td>E-KBOSS-2020-98913.tiff</td>\n",
       "      <td>0.663967</td>\n",
       "    </tr>\n",
       "    <tr>\n",
       "      <th>3</th>\n",
       "      <td>t1_szamla_1.tiff</td>\n",
       "      <td>ST-2020-44.tiff</td>\n",
       "      <td>0.663906</td>\n",
       "    </tr>\n",
       "    <tr>\n",
       "      <th>4</th>\n",
       "      <td>t1_szamla_1.tiff</td>\n",
       "      <td>t1_szamla_1.tiff</td>\n",
       "      <td>1.000000</td>\n",
       "    </tr>\n",
       "    <tr>\n",
       "      <th>...</th>\n",
       "      <td>...</td>\n",
       "      <td>...</td>\n",
       "      <td>...</td>\n",
       "    </tr>\n",
       "    <tr>\n",
       "      <th>95</th>\n",
       "      <td>E-KBOSS-2020-58455.tiff</td>\n",
       "      <td>t3_szamla_4.tiff</td>\n",
       "      <td>0.903614</td>\n",
       "    </tr>\n",
       "    <tr>\n",
       "      <th>96</th>\n",
       "      <td>E-KBOSS-2020-58455.tiff</td>\n",
       "      <td>t4_szamla_1.tiff</td>\n",
       "      <td>0.816413</td>\n",
       "    </tr>\n",
       "    <tr>\n",
       "      <th>97</th>\n",
       "      <td>E-KBOSS-2020-58455.tiff</td>\n",
       "      <td>t4_szamla_2.tiff</td>\n",
       "      <td>0.816413</td>\n",
       "    </tr>\n",
       "    <tr>\n",
       "      <th>98</th>\n",
       "      <td>E-KBOSS-2020-58455.tiff</td>\n",
       "      <td>t4_szamla_3.tiff</td>\n",
       "      <td>0.816413</td>\n",
       "    </tr>\n",
       "    <tr>\n",
       "      <th>99</th>\n",
       "      <td>E-KBOSS-2020-58455.tiff</td>\n",
       "      <td>t4_szamla_4.tiff</td>\n",
       "      <td>0.816413</td>\n",
       "    </tr>\n",
       "  </tbody>\n",
       "</table>\n",
       "<p>100 rows × 3 columns</p>\n",
       "</div>"
      ],
      "text/plain": [
       "                     Szamla    Szamlahoz_hasonlitott  Hasonlosag\n",
       "0          t1_szamla_1.tiff  E-KBOSS-2020-58455.tiff    0.664223\n",
       "1          t1_szamla_1.tiff  E-KBOSS-2020-78468.tiff    0.664620\n",
       "2          t1_szamla_1.tiff  E-KBOSS-2020-98913.tiff    0.663967\n",
       "3          t1_szamla_1.tiff          ST-2020-44.tiff    0.663906\n",
       "4          t1_szamla_1.tiff         t1_szamla_1.tiff    1.000000\n",
       "..                      ...                      ...         ...\n",
       "95  E-KBOSS-2020-58455.tiff         t3_szamla_4.tiff    0.903614\n",
       "96  E-KBOSS-2020-58455.tiff         t4_szamla_1.tiff    0.816413\n",
       "97  E-KBOSS-2020-58455.tiff         t4_szamla_2.tiff    0.816413\n",
       "98  E-KBOSS-2020-58455.tiff         t4_szamla_3.tiff    0.816413\n",
       "99  E-KBOSS-2020-58455.tiff         t4_szamla_4.tiff    0.816413\n",
       "\n",
       "[100 rows x 3 columns]"
      ]
     },
     "execution_count": 10,
     "metadata": {},
     "output_type": "execute_result"
    }
   ],
   "source": [
    "sim_df"
   ]
  },
  {
   "cell_type": "markdown",
   "metadata": {},
   "source": [
    "## PROCESS IMAGE CLASSES "
   ]
  },
  {
   "cell_type": "code",
   "execution_count": 11,
   "metadata": {},
   "outputs": [
    {
     "name": "stdout",
     "output_type": "stream",
     "text": [
      "DIRECTORY CREATED:\n",
      "C:\\Users\\Adam\\Python Scripts\\feldolgozott_kepek\\Type1\n",
      "DIRECTORY CREATED:\n",
      "C:\\Users\\Adam\\Python Scripts\\feldolgozott_kepek\\Type2\n",
      "DIRECTORY CREATED:\n",
      "C:\\Users\\Adam\\Python Scripts\\feldolgozott_kepek\\Type3\n",
      "DIRECTORY CREATED:\n",
      "C:\\Users\\Adam\\Python Scripts\\feldolgozott_kepek\\Type4\n",
      "DIRECTORY CREATED:\n",
      "C:\\Users\\Adam\\Python Scripts\\feldolgozott_kepek\\Type5\n"
     ]
    }
   ],
   "source": [
    "# CREATE FOLDERS FOR EACH TYPE \n",
    "\n",
    "# create as many folders as invoice types \n",
    "for i in range(len(invoice_types)): \n",
    "    create = result_dir+invoice_types[i]\n",
    "    if not os.path.exists(create):\n",
    "        os.makedirs(create)\n",
    "    print('DIRECTORY CREATED:')\n",
    "    print(create)"
   ]
  },
  {
   "cell_type": "code",
   "execution_count": 12,
   "metadata": {},
   "outputs": [
    {
     "data": {
      "text/html": [
       "<div>\n",
       "<style scoped>\n",
       "    .dataframe tbody tr th:only-of-type {\n",
       "        vertical-align: middle;\n",
       "    }\n",
       "\n",
       "    .dataframe tbody tr th {\n",
       "        vertical-align: top;\n",
       "    }\n",
       "\n",
       "    .dataframe thead th {\n",
       "        text-align: right;\n",
       "    }\n",
       "</style>\n",
       "<table border=\"1\" class=\"dataframe\">\n",
       "  <thead>\n",
       "    <tr style=\"text-align: right;\">\n",
       "      <th></th>\n",
       "      <th>Szamla</th>\n",
       "      <th>Szamlahoz_hasonlitott</th>\n",
       "      <th>Hasonlosag</th>\n",
       "    </tr>\n",
       "  </thead>\n",
       "  <tbody>\n",
       "    <tr>\n",
       "      <th>0</th>\n",
       "      <td>t1_szamla_1.tiff</td>\n",
       "      <td>E-KBOSS-2020-58455.tiff</td>\n",
       "      <td>0.664223</td>\n",
       "    </tr>\n",
       "    <tr>\n",
       "      <th>1</th>\n",
       "      <td>t1_szamla_1.tiff</td>\n",
       "      <td>E-KBOSS-2020-78468.tiff</td>\n",
       "      <td>0.664620</td>\n",
       "    </tr>\n",
       "    <tr>\n",
       "      <th>2</th>\n",
       "      <td>t1_szamla_1.tiff</td>\n",
       "      <td>E-KBOSS-2020-98913.tiff</td>\n",
       "      <td>0.663967</td>\n",
       "    </tr>\n",
       "    <tr>\n",
       "      <th>3</th>\n",
       "      <td>t1_szamla_1.tiff</td>\n",
       "      <td>ST-2020-44.tiff</td>\n",
       "      <td>0.663906</td>\n",
       "    </tr>\n",
       "    <tr>\n",
       "      <th>4</th>\n",
       "      <td>t1_szamla_1.tiff</td>\n",
       "      <td>t1_szamla_1.tiff</td>\n",
       "      <td>1.000000</td>\n",
       "    </tr>\n",
       "    <tr>\n",
       "      <th>...</th>\n",
       "      <td>...</td>\n",
       "      <td>...</td>\n",
       "      <td>...</td>\n",
       "    </tr>\n",
       "    <tr>\n",
       "      <th>95</th>\n",
       "      <td>E-KBOSS-2020-58455.tiff</td>\n",
       "      <td>t3_szamla_4.tiff</td>\n",
       "      <td>0.903614</td>\n",
       "    </tr>\n",
       "    <tr>\n",
       "      <th>96</th>\n",
       "      <td>E-KBOSS-2020-58455.tiff</td>\n",
       "      <td>t4_szamla_1.tiff</td>\n",
       "      <td>0.816413</td>\n",
       "    </tr>\n",
       "    <tr>\n",
       "      <th>97</th>\n",
       "      <td>E-KBOSS-2020-58455.tiff</td>\n",
       "      <td>t4_szamla_2.tiff</td>\n",
       "      <td>0.816413</td>\n",
       "    </tr>\n",
       "    <tr>\n",
       "      <th>98</th>\n",
       "      <td>E-KBOSS-2020-58455.tiff</td>\n",
       "      <td>t4_szamla_3.tiff</td>\n",
       "      <td>0.816413</td>\n",
       "    </tr>\n",
       "    <tr>\n",
       "      <th>99</th>\n",
       "      <td>E-KBOSS-2020-58455.tiff</td>\n",
       "      <td>t4_szamla_4.tiff</td>\n",
       "      <td>0.816413</td>\n",
       "    </tr>\n",
       "  </tbody>\n",
       "</table>\n",
       "<p>100 rows × 3 columns</p>\n",
       "</div>"
      ],
      "text/plain": [
       "                     Szamla    Szamlahoz_hasonlitott  Hasonlosag\n",
       "0          t1_szamla_1.tiff  E-KBOSS-2020-58455.tiff    0.664223\n",
       "1          t1_szamla_1.tiff  E-KBOSS-2020-78468.tiff    0.664620\n",
       "2          t1_szamla_1.tiff  E-KBOSS-2020-98913.tiff    0.663967\n",
       "3          t1_szamla_1.tiff          ST-2020-44.tiff    0.663906\n",
       "4          t1_szamla_1.tiff         t1_szamla_1.tiff    1.000000\n",
       "..                      ...                      ...         ...\n",
       "95  E-KBOSS-2020-58455.tiff         t3_szamla_4.tiff    0.903614\n",
       "96  E-KBOSS-2020-58455.tiff         t4_szamla_1.tiff    0.816413\n",
       "97  E-KBOSS-2020-58455.tiff         t4_szamla_2.tiff    0.816413\n",
       "98  E-KBOSS-2020-58455.tiff         t4_szamla_3.tiff    0.816413\n",
       "99  E-KBOSS-2020-58455.tiff         t4_szamla_4.tiff    0.816413\n",
       "\n",
       "[100 rows x 3 columns]"
      ]
     },
     "execution_count": 12,
     "metadata": {},
     "output_type": "execute_result"
    }
   ],
   "source": [
    "sim_df"
   ]
  },
  {
   "cell_type": "code",
   "execution_count": 13,
   "metadata": {},
   "outputs": [
    {
     "data": {
      "text/plain": [
       "('Type1', 'Type2', 'Type3', 'Type4', 'Type5')"
      ]
     },
     "execution_count": 13,
     "metadata": {},
     "output_type": "execute_result"
    }
   ],
   "source": [
    "invoice_types"
   ]
  },
  {
   "cell_type": "code",
   "execution_count": 14,
   "metadata": {},
   "outputs": [
    {
     "data": {
      "text/plain": [
       "('t1_szamla_1.tiff',\n",
       " 't2_szamla_1.tiff',\n",
       " 't3_szamla_1.tiff',\n",
       " 't4_szamla_1.tiff',\n",
       " 'E-KBOSS-2020-58455.tiff')"
      ]
     },
     "execution_count": 14,
     "metadata": {},
     "output_type": "execute_result"
    }
   ],
   "source": [
    "invoice_examples"
   ]
  },
  {
   "cell_type": "code",
   "execution_count": 15,
   "metadata": {},
   "outputs": [
    {
     "ename": "FileNotFoundError",
     "evalue": "[Errno 2] No such file or directory: 't3_szamla_1.tiff'",
     "output_type": "error",
     "traceback": [
      "\u001b[1;31m---------------------------------------------------------------------------\u001b[0m",
      "\u001b[1;31mFileNotFoundError\u001b[0m                         Traceback (most recent call last)",
      "\u001b[1;32m~\\anaconda3\\lib\\shutil.py\u001b[0m in \u001b[0;36mmove\u001b[1;34m(src, dst, copy_function)\u001b[0m\n\u001b[0;32m    565\u001b[0m     \u001b[1;32mtry\u001b[0m\u001b[1;33m:\u001b[0m\u001b[1;33m\u001b[0m\u001b[1;33m\u001b[0m\u001b[0m\n\u001b[1;32m--> 566\u001b[1;33m         \u001b[0mos\u001b[0m\u001b[1;33m.\u001b[0m\u001b[0mrename\u001b[0m\u001b[1;33m(\u001b[0m\u001b[0msrc\u001b[0m\u001b[1;33m,\u001b[0m \u001b[0mreal_dst\u001b[0m\u001b[1;33m)\u001b[0m\u001b[1;33m\u001b[0m\u001b[1;33m\u001b[0m\u001b[0m\n\u001b[0m\u001b[0;32m    567\u001b[0m     \u001b[1;32mexcept\u001b[0m \u001b[0mOSError\u001b[0m\u001b[1;33m:\u001b[0m\u001b[1;33m\u001b[0m\u001b[1;33m\u001b[0m\u001b[0m\n",
      "\u001b[1;31mFileNotFoundError\u001b[0m: [WinError 2] A rendszer nem találja a megadott fájlt: 't3_szamla_1.tiff' -> 'C:\\\\Users\\\\Adam\\\\Python Scripts\\\\feldolgozott_kepek\\\\Type5\\\\t3_szamla_1.tiff'",
      "\nDuring handling of the above exception, another exception occurred:\n",
      "\u001b[1;31mFileNotFoundError\u001b[0m                         Traceback (most recent call last)",
      "\u001b[1;32m<ipython-input-15-8316f1f304c3>\u001b[0m in \u001b[0;36m<module>\u001b[1;34m\u001b[0m\n\u001b[0;32m     18\u001b[0m \u001b[1;33m\u001b[0m\u001b[0m\n\u001b[0;32m     19\u001b[0m     \u001b[1;32mfor\u001b[0m \u001b[0mf\u001b[0m \u001b[1;32min\u001b[0m \u001b[0mfiles_to_move\u001b[0m\u001b[1;33m:\u001b[0m\u001b[1;33m\u001b[0m\u001b[1;33m\u001b[0m\u001b[0m\n\u001b[1;32m---> 20\u001b[1;33m         \u001b[0mshutil\u001b[0m\u001b[1;33m.\u001b[0m\u001b[0mmove\u001b[0m\u001b[1;33m(\u001b[0m\u001b[0mf\u001b[0m\u001b[1;33m,\u001b[0m \u001b[0mdest_folder\u001b[0m\u001b[1;33m)\u001b[0m\u001b[1;33m\u001b[0m\u001b[1;33m\u001b[0m\u001b[0m\n\u001b[0m",
      "\u001b[1;32m~\\anaconda3\\lib\\shutil.py\u001b[0m in \u001b[0;36mmove\u001b[1;34m(src, dst, copy_function)\u001b[0m\n\u001b[0;32m    578\u001b[0m             \u001b[0mrmtree\u001b[0m\u001b[1;33m(\u001b[0m\u001b[0msrc\u001b[0m\u001b[1;33m)\u001b[0m\u001b[1;33m\u001b[0m\u001b[1;33m\u001b[0m\u001b[0m\n\u001b[0;32m    579\u001b[0m         \u001b[1;32melse\u001b[0m\u001b[1;33m:\u001b[0m\u001b[1;33m\u001b[0m\u001b[1;33m\u001b[0m\u001b[0m\n\u001b[1;32m--> 580\u001b[1;33m             \u001b[0mcopy_function\u001b[0m\u001b[1;33m(\u001b[0m\u001b[0msrc\u001b[0m\u001b[1;33m,\u001b[0m \u001b[0mreal_dst\u001b[0m\u001b[1;33m)\u001b[0m\u001b[1;33m\u001b[0m\u001b[1;33m\u001b[0m\u001b[0m\n\u001b[0m\u001b[0;32m    581\u001b[0m             \u001b[0mos\u001b[0m\u001b[1;33m.\u001b[0m\u001b[0munlink\u001b[0m\u001b[1;33m(\u001b[0m\u001b[0msrc\u001b[0m\u001b[1;33m)\u001b[0m\u001b[1;33m\u001b[0m\u001b[1;33m\u001b[0m\u001b[0m\n\u001b[0;32m    582\u001b[0m     \u001b[1;32mreturn\u001b[0m \u001b[0mreal_dst\u001b[0m\u001b[1;33m\u001b[0m\u001b[1;33m\u001b[0m\u001b[0m\n",
      "\u001b[1;32m~\\anaconda3\\lib\\shutil.py\u001b[0m in \u001b[0;36mcopy2\u001b[1;34m(src, dst, follow_symlinks)\u001b[0m\n\u001b[0;32m    264\u001b[0m     \u001b[1;32mif\u001b[0m \u001b[0mos\u001b[0m\u001b[1;33m.\u001b[0m\u001b[0mpath\u001b[0m\u001b[1;33m.\u001b[0m\u001b[0misdir\u001b[0m\u001b[1;33m(\u001b[0m\u001b[0mdst\u001b[0m\u001b[1;33m)\u001b[0m\u001b[1;33m:\u001b[0m\u001b[1;33m\u001b[0m\u001b[1;33m\u001b[0m\u001b[0m\n\u001b[0;32m    265\u001b[0m         \u001b[0mdst\u001b[0m \u001b[1;33m=\u001b[0m \u001b[0mos\u001b[0m\u001b[1;33m.\u001b[0m\u001b[0mpath\u001b[0m\u001b[1;33m.\u001b[0m\u001b[0mjoin\u001b[0m\u001b[1;33m(\u001b[0m\u001b[0mdst\u001b[0m\u001b[1;33m,\u001b[0m \u001b[0mos\u001b[0m\u001b[1;33m.\u001b[0m\u001b[0mpath\u001b[0m\u001b[1;33m.\u001b[0m\u001b[0mbasename\u001b[0m\u001b[1;33m(\u001b[0m\u001b[0msrc\u001b[0m\u001b[1;33m)\u001b[0m\u001b[1;33m)\u001b[0m\u001b[1;33m\u001b[0m\u001b[1;33m\u001b[0m\u001b[0m\n\u001b[1;32m--> 266\u001b[1;33m     \u001b[0mcopyfile\u001b[0m\u001b[1;33m(\u001b[0m\u001b[0msrc\u001b[0m\u001b[1;33m,\u001b[0m \u001b[0mdst\u001b[0m\u001b[1;33m,\u001b[0m \u001b[0mfollow_symlinks\u001b[0m\u001b[1;33m=\u001b[0m\u001b[0mfollow_symlinks\u001b[0m\u001b[1;33m)\u001b[0m\u001b[1;33m\u001b[0m\u001b[1;33m\u001b[0m\u001b[0m\n\u001b[0m\u001b[0;32m    267\u001b[0m     \u001b[0mcopystat\u001b[0m\u001b[1;33m(\u001b[0m\u001b[0msrc\u001b[0m\u001b[1;33m,\u001b[0m \u001b[0mdst\u001b[0m\u001b[1;33m,\u001b[0m \u001b[0mfollow_symlinks\u001b[0m\u001b[1;33m=\u001b[0m\u001b[0mfollow_symlinks\u001b[0m\u001b[1;33m)\u001b[0m\u001b[1;33m\u001b[0m\u001b[1;33m\u001b[0m\u001b[0m\n\u001b[0;32m    268\u001b[0m     \u001b[1;32mreturn\u001b[0m \u001b[0mdst\u001b[0m\u001b[1;33m\u001b[0m\u001b[1;33m\u001b[0m\u001b[0m\n",
      "\u001b[1;32m~\\anaconda3\\lib\\shutil.py\u001b[0m in \u001b[0;36mcopyfile\u001b[1;34m(src, dst, follow_symlinks)\u001b[0m\n\u001b[0;32m    118\u001b[0m         \u001b[0mos\u001b[0m\u001b[1;33m.\u001b[0m\u001b[0msymlink\u001b[0m\u001b[1;33m(\u001b[0m\u001b[0mos\u001b[0m\u001b[1;33m.\u001b[0m\u001b[0mreadlink\u001b[0m\u001b[1;33m(\u001b[0m\u001b[0msrc\u001b[0m\u001b[1;33m)\u001b[0m\u001b[1;33m,\u001b[0m \u001b[0mdst\u001b[0m\u001b[1;33m)\u001b[0m\u001b[1;33m\u001b[0m\u001b[1;33m\u001b[0m\u001b[0m\n\u001b[0;32m    119\u001b[0m     \u001b[1;32melse\u001b[0m\u001b[1;33m:\u001b[0m\u001b[1;33m\u001b[0m\u001b[1;33m\u001b[0m\u001b[0m\n\u001b[1;32m--> 120\u001b[1;33m         \u001b[1;32mwith\u001b[0m \u001b[0mopen\u001b[0m\u001b[1;33m(\u001b[0m\u001b[0msrc\u001b[0m\u001b[1;33m,\u001b[0m \u001b[1;34m'rb'\u001b[0m\u001b[1;33m)\u001b[0m \u001b[1;32mas\u001b[0m \u001b[0mfsrc\u001b[0m\u001b[1;33m:\u001b[0m\u001b[1;33m\u001b[0m\u001b[1;33m\u001b[0m\u001b[0m\n\u001b[0m\u001b[0;32m    121\u001b[0m             \u001b[1;32mwith\u001b[0m \u001b[0mopen\u001b[0m\u001b[1;33m(\u001b[0m\u001b[0mdst\u001b[0m\u001b[1;33m,\u001b[0m \u001b[1;34m'wb'\u001b[0m\u001b[1;33m)\u001b[0m \u001b[1;32mas\u001b[0m \u001b[0mfdst\u001b[0m\u001b[1;33m:\u001b[0m\u001b[1;33m\u001b[0m\u001b[1;33m\u001b[0m\u001b[0m\n\u001b[0;32m    122\u001b[0m                 \u001b[0mcopyfileobj\u001b[0m\u001b[1;33m(\u001b[0m\u001b[0mfsrc\u001b[0m\u001b[1;33m,\u001b[0m \u001b[0mfdst\u001b[0m\u001b[1;33m)\u001b[0m\u001b[1;33m\u001b[0m\u001b[1;33m\u001b[0m\u001b[0m\n",
      "\u001b[1;31mFileNotFoundError\u001b[0m: [Errno 2] No such file or directory: 't3_szamla_1.tiff'"
     ]
    }
   ],
   "source": [
    "# Sort invoices into directory with very similar benchmark invoce \n",
    "\n",
    "for i in range(len(invoice_types)):\n",
    "    \n",
    "    # create df for invoice type \n",
    "    type1 = sim_df.loc[(sim_df['Szamla'] == invoice_examples[i])  ]\n",
    "    \n",
    "    # filter for similar invoices only\n",
    "    move = type1.loc[type1['Hasonlosag'] > 0.90]\n",
    "    \n",
    "    # create list of filenames to move to type's folder\n",
    "    files_to_move = move['Szamlahoz_hasonlitott']\n",
    "    files_to_move = list(files_to_move)\n",
    "    \n",
    "    # move files to appropriate folder \n",
    "    dest_folder =  os.getcwd() + '\\\\' +  invoice_types[i]\n",
    "    #files = files_to_move\n",
    "\n",
    "    for f in files_to_move:\n",
    "        shutil.move(f, dest_folder)"
   ]
  },
  {
   "cell_type": "code",
   "execution_count": null,
   "metadata": {},
   "outputs": [],
   "source": [
    "sim_df"
   ]
  }
 ],
 "metadata": {
  "kernelspec": {
   "display_name": "Python 3",
   "language": "python",
   "name": "python3"
  },
  "language_info": {
   "codemirror_mode": {
    "name": "ipython",
    "version": 3
   },
   "file_extension": ".py",
   "mimetype": "text/x-python",
   "name": "python",
   "nbconvert_exporter": "python",
   "pygments_lexer": "ipython3",
   "version": "3.7.6"
  }
 },
 "nbformat": 4,
 "nbformat_minor": 4
}
