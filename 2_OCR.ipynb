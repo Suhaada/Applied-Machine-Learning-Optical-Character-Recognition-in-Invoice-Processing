{
 "cells": [
  {
   "cell_type": "markdown",
   "metadata": {},
   "source": [
    "## PARAMETERS"
   ]
  },
  {
   "cell_type": "code",
   "execution_count": 1,
   "metadata": {},
   "outputs": [],
   "source": [
    "#!pip install pytesseract\n",
    "#!pip install tesseract"
   ]
  },
  {
   "cell_type": "markdown",
   "metadata": {},
   "source": [
    "## PACKAGES"
   ]
  },
  {
   "cell_type": "code",
   "execution_count": 2,
   "metadata": {},
   "outputs": [],
   "source": [
    "from PIL import Image\n",
    "from pytesseract import image_to_string\n",
    "import os \n",
    "import pytesseract\n",
    "import numpy as np\n",
    "import re\n",
    "import cv2\n",
    "\n",
    "## Tesseract location \n",
    "# C:\\Program Files\\Tesseract-OCR\n",
    "pytesseract.pytesseract.tesseract_cmd = 'C:/Program Files/Tesseract-OCR/tesseract.exe'"
   ]
  },
  {
   "cell_type": "markdown",
   "metadata": {},
   "source": [
    "## PROCESS CATEGORIZED PICTURES"
   ]
  },
  {
   "cell_type": "code",
   "execution_count": 3,
   "metadata": {},
   "outputs": [],
   "source": [
    "os.chdir('C:\\\\Users\\\\Adam\\\\Python Scripts\\\\feldolgozott_kepek\\\\')"
   ]
  },
  {
   "cell_type": "code",
   "execution_count": 4,
   "metadata": {},
   "outputs": [],
   "source": [
    "folders = os.listdir()"
   ]
  },
  {
   "cell_type": "code",
   "execution_count": 5,
   "metadata": {
    "scrolled": true
   },
   "outputs": [
    {
     "name": "stdout",
     "output_type": "stream",
     "text": [
      "OUTER LOOP:\n",
      "0\n",
      "WORKDIR:\n",
      "C:\\Users\\Adam\\Python Scripts\\feldolgozott_kepek\\Type1\n",
      "FILES IN DIR:\n",
      "['t1_szamla_1.tiff', 't1_szamla_2.tiff', 't1_szamla_3.tiff', 't1_szamla_4.tiff']\n",
      "DIRECTORY TO BE CREATED:\n",
      "C:\\Users\\Adam\\Python Scripts\\feldolgozott_kepek\\Type1\\_szovegge_alakitott_kepek_\\\n",
      "INNER LOOP:\n",
      "0\n",
      "FILE CREATED:\n",
      "C:\\Users\\Adam\\Python Scripts\\feldolgozott_kepek\\Type1\\_szovegge_alakitott_kepek_\\t1_szamla_1.txt\n",
      "INNER LOOP:\n",
      "1\n",
      "FILE CREATED:\n",
      "C:\\Users\\Adam\\Python Scripts\\feldolgozott_kepek\\Type1\\_szovegge_alakitott_kepek_\\t1_szamla_2.txt\n",
      "INNER LOOP:\n",
      "2\n",
      "FILE CREATED:\n",
      "C:\\Users\\Adam\\Python Scripts\\feldolgozott_kepek\\Type1\\_szovegge_alakitott_kepek_\\t1_szamla_3.txt\n",
      "INNER LOOP:\n",
      "3\n",
      "FILE CREATED:\n",
      "C:\\Users\\Adam\\Python Scripts\\feldolgozott_kepek\\Type1\\_szovegge_alakitott_kepek_\\t1_szamla_4.txt\n",
      "OUTER LOOP:\n",
      "1\n",
      "WORKDIR:\n",
      "C:\\Users\\Adam\\Python Scripts\\feldolgozott_kepek\\Type2\n",
      "FILES IN DIR:\n",
      "['t2_szamla_1.tiff', 't2_szamla_2.tiff', 't2_szamla_3.tiff', 't2_szamla_4.tiff', '_szovegge_alakitott_kepek_']\n",
      "DIRECTORY TO BE CREATED:\n",
      "C:\\Users\\Adam\\Python Scripts\\feldolgozott_kepek\\Type2\\_szovegge_alakitott_kepek_\\\n",
      "INNER LOOP:\n",
      "0\n",
      "FILE CREATED:\n",
      "C:\\Users\\Adam\\Python Scripts\\feldolgozott_kepek\\Type2\\_szovegge_alakitott_kepek_\\t2_szamla_1.txt\n",
      "INNER LOOP:\n",
      "1\n",
      "FILE CREATED:\n",
      "C:\\Users\\Adam\\Python Scripts\\feldolgozott_kepek\\Type2\\_szovegge_alakitott_kepek_\\t2_szamla_2.txt\n",
      "INNER LOOP:\n",
      "2\n",
      "FILE CREATED:\n",
      "C:\\Users\\Adam\\Python Scripts\\feldolgozott_kepek\\Type2\\_szovegge_alakitott_kepek_\\t2_szamla_3.txt\n",
      "INNER LOOP:\n",
      "3\n",
      "FILE CREATED:\n",
      "C:\\Users\\Adam\\Python Scripts\\feldolgozott_kepek\\Type2\\_szovegge_alakitott_kepek_\\t2_szamla_4.txt\n"
     ]
    },
    {
     "ename": "PermissionError",
     "evalue": "[Errno 13] Permission denied: '_szovegge_alakitott_kepek_'",
     "output_type": "error",
     "traceback": [
      "\u001b[1;31m---------------------------------------------------------------------------\u001b[0m",
      "\u001b[1;31mPermissionError\u001b[0m                           Traceback (most recent call last)",
      "\u001b[1;32m<ipython-input-5-6d41f82928c9>\u001b[0m in \u001b[0;36m<module>\u001b[1;34m\u001b[0m\n\u001b[0;32m     22\u001b[0m     \u001b[1;32mfor\u001b[0m \u001b[0mf\u001b[0m \u001b[1;32min\u001b[0m \u001b[0mrange\u001b[0m\u001b[1;33m(\u001b[0m\u001b[0mlen\u001b[0m\u001b[1;33m(\u001b[0m\u001b[0mfiles\u001b[0m\u001b[1;33m)\u001b[0m\u001b[1;33m)\u001b[0m\u001b[1;33m:\u001b[0m\u001b[1;33m\u001b[0m\u001b[1;33m\u001b[0m\u001b[0m\n\u001b[0;32m     23\u001b[0m         \u001b[0mfile\u001b[0m \u001b[1;33m=\u001b[0m \u001b[0mfiles\u001b[0m\u001b[1;33m[\u001b[0m\u001b[0mf\u001b[0m\u001b[1;33m]\u001b[0m\u001b[1;33m\u001b[0m\u001b[1;33m\u001b[0m\u001b[0m\n\u001b[1;32m---> 24\u001b[1;33m         \u001b[0mim\u001b[0m \u001b[1;33m=\u001b[0m \u001b[0mImage\u001b[0m\u001b[1;33m.\u001b[0m\u001b[0mopen\u001b[0m\u001b[1;33m(\u001b[0m\u001b[0mfile\u001b[0m\u001b[1;33m)\u001b[0m\u001b[1;33m\u001b[0m\u001b[1;33m\u001b[0m\u001b[0m\n\u001b[0m\u001b[0;32m     25\u001b[0m         \u001b[0mprint\u001b[0m\u001b[1;33m(\u001b[0m\u001b[1;34m'INNER LOOP:'\u001b[0m\u001b[1;33m)\u001b[0m\u001b[1;33m\u001b[0m\u001b[1;33m\u001b[0m\u001b[0m\n\u001b[0;32m     26\u001b[0m         \u001b[0mprint\u001b[0m\u001b[1;33m(\u001b[0m\u001b[0mf\u001b[0m\u001b[1;33m)\u001b[0m\u001b[1;33m\u001b[0m\u001b[1;33m\u001b[0m\u001b[0m\n",
      "\u001b[1;32m~\\anaconda3\\lib\\site-packages\\PIL\\Image.py\u001b[0m in \u001b[0;36mopen\u001b[1;34m(fp, mode)\u001b[0m\n\u001b[0;32m   2807\u001b[0m \u001b[1;33m\u001b[0m\u001b[0m\n\u001b[0;32m   2808\u001b[0m     \u001b[1;32mif\u001b[0m \u001b[0mfilename\u001b[0m\u001b[1;33m:\u001b[0m\u001b[1;33m\u001b[0m\u001b[1;33m\u001b[0m\u001b[0m\n\u001b[1;32m-> 2809\u001b[1;33m         \u001b[0mfp\u001b[0m \u001b[1;33m=\u001b[0m \u001b[0mbuiltins\u001b[0m\u001b[1;33m.\u001b[0m\u001b[0mopen\u001b[0m\u001b[1;33m(\u001b[0m\u001b[0mfilename\u001b[0m\u001b[1;33m,\u001b[0m \u001b[1;34m\"rb\"\u001b[0m\u001b[1;33m)\u001b[0m\u001b[1;33m\u001b[0m\u001b[1;33m\u001b[0m\u001b[0m\n\u001b[0m\u001b[0;32m   2810\u001b[0m         \u001b[0mexclusive_fp\u001b[0m \u001b[1;33m=\u001b[0m \u001b[1;32mTrue\u001b[0m\u001b[1;33m\u001b[0m\u001b[1;33m\u001b[0m\u001b[0m\n\u001b[0;32m   2811\u001b[0m \u001b[1;33m\u001b[0m\u001b[0m\n",
      "\u001b[1;31mPermissionError\u001b[0m: [Errno 13] Permission denied: '_szovegge_alakitott_kepek_'"
     ]
    }
   ],
   "source": [
    "#LOOP THROUGH FOLDERS\n",
    "for i in range(len(folders)): \n",
    "    print('OUTER LOOP:')\n",
    "    print(i)\n",
    "    \n",
    "    os.chdir('C:\\\\Users\\\\Adam\\\\Python Scripts\\\\feldolgozott_kepek\\\\' + folders[i])\n",
    "    print('WORKDIR:')\n",
    "    print(os.getcwd())\n",
    "    \n",
    "    files = os.listdir()\n",
    "    print('FILES IN DIR:')\n",
    "    print(files)\n",
    "    \n",
    "    # CREATE FOLDER FOR TXT FILES\n",
    "    directory = 'C:\\\\Users\\\\Adam\\\\Python Scripts\\\\feldolgozott_kepek\\\\' + folders[i] + '\\\\'+ '_szovegge_alakitott_kepek_'+'\\\\'\n",
    "    if not os.path.exists(directory):\n",
    "        os.makedirs(directory)\n",
    "    print('DIRECTORY TO BE CREATED:')\n",
    "    print(directory)\n",
    "\n",
    "    # LOOP THROUGH FILES IN FOLDER\n",
    "    for f in range(len(files)): \n",
    "        file = files[f]\n",
    "        im = Image.open(file)\n",
    "        print('INNER LOOP:')\n",
    "        print(f)\n",
    "        \n",
    "        # PREPROCESS IMAGE \n",
    "\n",
    "        #scale_percent = 150 # percent of original size\n",
    "        #width = int(im.shape[1] * scale_percent / 100)\n",
    "        #height = int(im.shape[0] * scale_percent / 100)\n",
    "        #dim = (width, height)\n",
    "        #im = cv2.resize(im, dim, interpolation=cv2.INTER_AREA )\n",
    "        im = cv2.cvtColor(np.float32(im), cv2.COLOR_RGB2GRAY)\n",
    "        kernel = np.ones((1, 1), np.uint8)\n",
    "        im = cv2.dilate(im, kernel, iterations=2)\n",
    "        im = cv2.erode(im, kernel, iterations=2)\n",
    "        \n",
    "\n",
    "        # RUN TESSERACT ON FILE\n",
    "        #text = pytesseract.image_to_string(im, lang = 'hun', config='--psm 1 --oem 3')\n",
    "        #text = pytesseract.image_to_string(im, lang = 'hun+eng', config='-c preserve_interword_spaces=1')\n",
    "        text = pytesseract.image_to_string(im, config='-l hun -c preserve_interword_spaces=1'  '--oem 1' '--psm 6' )\n",
    "        #text = pytesseract.image_to_string(im, lang = 'hun')\n",
    "\n",
    "        # WRITE OUTPUT TO NEW FILE \n",
    "        filename= directory+files[f][:-4] + 'txt'\n",
    "        testfile = open(filename, \"w\")\n",
    "        \n",
    "        # convert multiple spaces into @\n",
    "        #text = re.sub('\\s\\s+', ' @ ', text)\n",
    "        text = re.sub('  +', ' @ ', text)\n",
    "\n",
    "\n",
    "        testfile.write(text)\n",
    "        testfile.close() \n",
    "        print('FILE CREATED:')\n",
    "        print(filename)\n",
    "        "
   ]
  },
  {
   "cell_type": "code",
   "execution_count": null,
   "metadata": {},
   "outputs": [],
   "source": [
    "print('DONE')"
   ]
  }
 ],
 "metadata": {
  "kernelspec": {
   "display_name": "Python 3",
   "language": "python",
   "name": "python3"
  },
  "language_info": {
   "codemirror_mode": {
    "name": "ipython",
    "version": 3
   },
   "file_extension": ".py",
   "mimetype": "text/x-python",
   "name": "python",
   "nbconvert_exporter": "python",
   "pygments_lexer": "ipython3",
   "version": "3.7.6"
  }
 },
 "nbformat": 4,
 "nbformat_minor": 4
}
